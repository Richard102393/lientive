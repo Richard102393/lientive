{
 "cells": [
  {
   "cell_type": "code",
   "execution_count": 29,
   "metadata": {},
   "outputs": [],
   "source": [
    "import streamlit as st\n",
    "import pandas as pd\n",
    "import gspread\n",
    "from google.oauth2 import service_account\n",
    "import numpy as np\n",
    "import matplotlib.pyplot as plt\n",
    "import matplotlib.ticker as mtick"
   ]
  },
  {
   "cell_type": "code",
   "execution_count": 30,
   "metadata": {},
   "outputs": [],
   "source": [
    "# Iniciar el Drive\n",
    "gc = gspread.service_account(filename=\"key.json\")\n",
    "        # Abrir y establecer el libro con el que se va a trabajar\n",
    "sh_Calidad = gc.open(\"Calidad\")\n",
    "worksheet_calidad = sh_Calidad.get_worksheet(0)\n",
    "\n",
    " # Abrir y establecer el libro con el que se va a trabajar\n",
    "sh_Llegadas = gc.open(\"Llegadas\")\n",
    "worksheet_Llegadas = sh_Llegadas.get_worksheet(0)\n",
    "\n",
    "sh_Asignaciones = gc.open(\"Asignaciones\")\n",
    "worksheet_Asignaciones = sh_Asignaciones.get_worksheet(0)\n",
    "\n",
    "# Convertir la hoja de cálculo a un DataFrame de Pandas para Calidad\n",
    "df_calidad = pd.DataFrame(worksheet_calidad.get_all_records())\n",
    "\n",
    "#Convertir la hoja de cálculo a un DataFrame de Pandas para Llegadas\n",
    "df_llegadas = pd.DataFrame(worksheet_Llegadas.get_all_records())\n",
    "\n",
    "df_Asignaciones  = pd.DataFrame(worksheet_Asignaciones .get_all_records())\n",
    "\n",
    "df_A = df_Asignaciones.groupby(['Mos','Manual','Talla']).agg({'Cantidad': 'sum'}).reset_index()\n",
    "df_C = df_calidad.groupby(['Mos','Manual','Talla']).agg({'Aprobadas': 'sum','Devueltas': 'sum'}).reset_index()"
   ]
  },
  {
   "cell_type": "code",
   "execution_count": 32,
   "metadata": {},
   "outputs": [
    {
     "data": {
      "text/html": [
       "<div>\n",
       "<style scoped>\n",
       "    .dataframe tbody tr th:only-of-type {\n",
       "        vertical-align: middle;\n",
       "    }\n",
       "\n",
       "    .dataframe tbody tr th {\n",
       "        vertical-align: top;\n",
       "    }\n",
       "\n",
       "    .dataframe thead th {\n",
       "        text-align: right;\n",
       "    }\n",
       "</style>\n",
       "<table border=\"1\" class=\"dataframe\">\n",
       "  <thead>\n",
       "    <tr style=\"text-align: right;\">\n",
       "      <th></th>\n",
       "      <th>ID</th>\n",
       "      <th>Fecha</th>\n",
       "      <th>Cliente</th>\n",
       "      <th>Referencia</th>\n",
       "      <th>Mos</th>\n",
       "      <th>Talla</th>\n",
       "      <th>Cantidad</th>\n",
       "      <th>Precio_Unidad</th>\n",
       "      <th>Costo_Unidad</th>\n",
       "      <th>Despachados</th>\n",
       "      <th>Manual</th>\n",
       "      <th>Aprobadas</th>\n",
       "      <th>Devueltas</th>\n",
       "      <th>Pendiente</th>\n",
       "    </tr>\n",
       "  </thead>\n",
       "  <tbody>\n",
       "  </tbody>\n",
       "</table>\n",
       "</div>"
      ],
      "text/plain": [
       "Empty DataFrame\n",
       "Columns: [ID, Fecha, Cliente, Referencia, Mos, Talla, Cantidad, Precio_Unidad, Costo_Unidad, Despachados, Manual, Aprobadas, Devueltas, Pendiente]\n",
       "Index: []"
      ]
     },
     "execution_count": 32,
     "metadata": {},
     "output_type": "execute_result"
    }
   ],
   "source": [
    "df_u = df_A.merge(df_C, how='left')\n",
    "df_u = df_llegadas.merge(df_u, how='inner')\n",
    "# Manual = \"Yaneth malfaida Sehuanes ortega\"\n",
    "df_u = df_u.loc[df_u['Mos'] == 1919].fillna(0)\n",
    "df_u['Pendiente'] = df_u['Cantidad'] - df_u['Aprobadas']\n",
    "df_u"
   ]
  },
  {
   "cell_type": "code",
   "execution_count": 21,
   "metadata": {},
   "outputs": [
    {
     "data": {
      "text/plain": [
       "0"
      ]
     },
     "execution_count": 21,
     "metadata": {},
     "output_type": "execute_result"
    }
   ],
   "source": [
    "cantidades = df_u['Cantidad'].astype(int).sum()\n",
    "cantidades"
   ]
  }
 ],
 "metadata": {
  "kernelspec": {
   "display_name": "Python 3",
   "language": "python",
   "name": "python3"
  },
  "language_info": {
   "codemirror_mode": {
    "name": "ipython",
    "version": 3
   },
   "file_extension": ".py",
   "mimetype": "text/x-python",
   "name": "python",
   "nbconvert_exporter": "python",
   "pygments_lexer": "ipython3",
   "version": "3.11.6"
  },
  "orig_nbformat": 4
 },
 "nbformat": 4,
 "nbformat_minor": 2
}
